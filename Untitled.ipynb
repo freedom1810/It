{
 "cells": [
  {
   "cell_type": "markdown",
   "metadata": {},
   "source": [
    "# It"
   ]
  },
  {
   "cell_type": "markdown",
   "metadata": {},
   "source": [
    "# It\n",
    "## [Data Structures and Algorithms - University of California San Diego](https://www.coursera.org/specializations/data-structures-algorithms?)\n",
    "- [Course 1: Algorithmic Toolbox](https://fb.com)\n",
    "- Course 2:  Data Structures\n",
    "- Course 3:  Algorithms on Graphs\n",
    "- Course 4:  Algorithms on Strings\n",
    "- Course 5:  Advanced Algorithms and Complexity\n",
    "- Course 6:  Genome Assembly Programming Challenge\n",
    "## [Python for Everybody - University of Michigan](https://www.coursera.org/learn/learning-how-to-learn?)\n",
    "## [Deep Learning - deeplearning.ai](https://www.coursera.org/specializations/deep-learning)"
   ]
  },
  {
   "cell_type": "markdown",
   "metadata": {},
   "source": []
  },
  {
   "cell_type": "code",
   "execution_count": null,
   "metadata": {},
   "outputs": [],
   "source": []
  },
  {
   "cell_type": "code",
   "execution_count": null,
   "metadata": {},
   "outputs": [],
   "source": []
  },
  {
   "cell_type": "code",
   "execution_count": null,
   "metadata": {},
   "outputs": [],
   "source": []
  },
  {
   "cell_type": "code",
   "execution_count": null,
   "metadata": {},
   "outputs": [],
   "source": []
  },
  {
   "cell_type": "code",
   "execution_count": null,
   "metadata": {},
   "outputs": [],
   "source": []
  }
 ],
 "metadata": {
  "kernelspec": {
   "display_name": "Python 3",
   "language": "python",
   "name": "python3"
  },
  "language_info": {
   "codemirror_mode": {
    "name": "ipython",
    "version": 3
   },
   "file_extension": ".py",
   "mimetype": "text/x-python",
   "name": "python",
   "nbconvert_exporter": "python",
   "pygments_lexer": "ipython3",
   "version": "3.6.8"
  }
 },
 "nbformat": 4,
 "nbformat_minor": 4
}
